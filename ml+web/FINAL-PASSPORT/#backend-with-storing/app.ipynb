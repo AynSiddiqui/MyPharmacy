{
 "cells": [
  {
   "cell_type": "code",
   "execution_count": null,
   "id": "f3017812",
   "metadata": {},
   "outputs": [
    {
     "name": "stdout",
     "output_type": "stream",
     "text": [
      " * Serving Flask app '__main__'\n",
      " * Debug mode: off\n"
     ]
    },
    {
     "name": "stderr",
     "output_type": "stream",
     "text": [
      "WARNING: This is a development server. Do not use it in a production deployment. Use a production WSGI server instead.\n",
      " * Running on http://127.0.0.1:81\n",
      "Press CTRL+C to quit\n",
      "127.0.0.1 - - [22/Jan/2023 16:56:49] \"GET / HTTP/1.1\" 200 -\n",
      "127.0.0.1 - - [22/Jan/2023 16:56:49] \"GET /favicon.ico HTTP/1.1\" 404 -\n",
      "127.0.0.1 - - [22/Jan/2023 16:56:54] \"GET / HTTP/1.1\" 200 -\n",
      "127.0.0.1 - - [22/Jan/2023 16:56:54] \"GET / HTTP/1.1\" 200 -\n",
      "127.0.0.1 - - [22/Jan/2023 16:56:55] \"GET / HTTP/1.1\" 200 -\n",
      "127.0.0.1 - - [22/Jan/2023 16:56:55] \"GET / HTTP/1.1\" 200 -\n",
      "127.0.0.1 - - [22/Jan/2023 16:56:55] \"GET / HTTP/1.1\" 200 -\n",
      "127.0.0.1 - - [22/Jan/2023 16:56:55] \"GET / HTTP/1.1\" 200 -\n",
      "127.0.0.1 - - [22/Jan/2023 16:56:56] \"GET / HTTP/1.1\" 200 -\n",
      "127.0.0.1 - - [22/Jan/2023 16:56:56] \"GET / HTTP/1.1\" 200 -\n"
     ]
    }
   ],
   "source": [
    "import numpy as np\n",
    "from flask import Flask, request, jsonify, render_template\n",
    "import pickle\n",
    "from ipynb.fs.full.Search_algorithm import searching\n",
    "#from ipynb.fs.full.Search_algorithm import merge\n",
    "# Create flask app\n",
    "app = Flask(__name__)\n",
    "model = pickle.load(open(\"model.pkl\", \"rb\"))\n",
    "\n",
    "@app.route(\"/\")\n",
    "def Home():\n",
    "    return render_template(\"index.html\")\n",
    "\n",
    "@app.route(\"/search\", methods = [\"POST\"])\n",
    "def search():\n",
    "    feature = request.form.get(\"feature\")\n",
    "    k=searching(feature)\n",
    "    return render_template(\"index1.html\", prediction_text = \"The Medicines suggested for you are: {} \".format(k))\n",
    "\n",
    "if __name__ == \"__main__\":\n",
    "   app.run(port=81)\n",
    " "
   ]
  },
  {
   "cell_type": "code",
   "execution_count": null,
   "id": "3f634826",
   "metadata": {},
   "outputs": [],
   "source": []
  }
 ],
 "metadata": {
  "kernelspec": {
   "display_name": "Python 3 (ipykernel)",
   "language": "python",
   "name": "python3"
  },
  "language_info": {
   "codemirror_mode": {
    "name": "ipython",
    "version": 3
   },
   "file_extension": ".py",
   "mimetype": "text/x-python",
   "name": "python",
   "nbconvert_exporter": "python",
   "pygments_lexer": "ipython3",
   "version": "3.10.8"
  }
 },
 "nbformat": 4,
 "nbformat_minor": 5
}
