{
 "cells": [
  {
   "cell_type": "code",
   "execution_count": 1,
   "id": "9fde0f06",
   "metadata": {},
   "outputs": [],
   "source": [
    "#importing the dependencies\n",
    "\n",
    "import numpy as np\n",
    "import pandas as pd\n",
    "import math\n",
    "import re\n",
    "from scipy.sparse import csr_matrix\n",
    "import matplotlib.pyplot as plt\n",
    "import seaborn as sns\n",
    "from surprise import Reader, Dataset, SVD\n",
    "import difflib\n",
    "from sklearn.feature_extraction.text import TfidfVectorizer #to convert textual data into vectors\n",
    "from sklearn.metrics.pairwise import cosine_similarity\n",
    "from surprise.model_selection.validation import cross_validate\n",
    "sns.set_style(\"darkgrid\")\n",
    "import pickle\n",
    "from sklearn.preprocessing import StandardScaler\n",
    "from sklearn.ensemble import RandomForestClassifier\n",
    "from sklearn.model_selection import train_test_split"
   ]
  },
  {
   "cell_type": "code",
   "execution_count": 2,
   "id": "64116a59",
   "metadata": {},
   "outputs": [
    {
     "data": {
      "text/html": [
       "<div>\n",
       "<style scoped>\n",
       "    .dataframe tbody tr th:only-of-type {\n",
       "        vertical-align: middle;\n",
       "    }\n",
       "\n",
       "    .dataframe tbody tr th {\n",
       "        vertical-align: top;\n",
       "    }\n",
       "\n",
       "    .dataframe thead th {\n",
       "        text-align: right;\n",
       "    }\n",
       "</style>\n",
       "<table border=\"1\" class=\"dataframe\">\n",
       "  <thead>\n",
       "    <tr style=\"text-align: right;\">\n",
       "      <th></th>\n",
       "      <th>Unnamed: 0</th>\n",
       "      <th>DrugId</th>\n",
       "      <th>Drug</th>\n",
       "      <th>Condition</th>\n",
       "      <th>Ratings</th>\n",
       "      <th>NoOfReviews</th>\n",
       "      <th>index</th>\n",
       "    </tr>\n",
       "  </thead>\n",
       "  <tbody>\n",
       "    <tr>\n",
       "      <th>0</th>\n",
       "      <td>0</td>\n",
       "      <td>146724.0</td>\n",
       "      <td>25dph-7.5peh</td>\n",
       "      <td>Stuffy Nose</td>\n",
       "      <td>5.000000</td>\n",
       "      <td>54.0</td>\n",
       "      <td>0</td>\n",
       "    </tr>\n",
       "    <tr>\n",
       "      <th>1</th>\n",
       "      <td>2</td>\n",
       "      <td>144731.0</td>\n",
       "      <td>warfarin (bulk) 100 % powder</td>\n",
       "      <td>Other</td>\n",
       "      <td>3.888889</td>\n",
       "      <td>3.0</td>\n",
       "      <td>1</td>\n",
       "    </tr>\n",
       "    <tr>\n",
       "      <th>2</th>\n",
       "      <td>6</td>\n",
       "      <td>163180.0</td>\n",
       "      <td>wymzya fe</td>\n",
       "      <td>Birth Control</td>\n",
       "      <td>1.000000</td>\n",
       "      <td>1.0</td>\n",
       "      <td>2</td>\n",
       "    </tr>\n",
       "    <tr>\n",
       "      <th>3</th>\n",
       "      <td>9</td>\n",
       "      <td>9800.0</td>\n",
       "      <td>12 hour nasal relief spray, non-aerosol</td>\n",
       "      <td>Stuffy Nose</td>\n",
       "      <td>5.000000</td>\n",
       "      <td>1.0</td>\n",
       "      <td>3</td>\n",
       "    </tr>\n",
       "    <tr>\n",
       "      <th>4</th>\n",
       "      <td>10</td>\n",
       "      <td>12112.0</td>\n",
       "      <td>pyrogallol crystals</td>\n",
       "      <td>Other</td>\n",
       "      <td>4.722222</td>\n",
       "      <td>12.0</td>\n",
       "      <td>4</td>\n",
       "    </tr>\n",
       "  </tbody>\n",
       "</table>\n",
       "</div>"
      ],
      "text/plain": [
       "   Unnamed: 0    DrugId                                     Drug  \\\n",
       "0           0  146724.0                             25dph-7.5peh   \n",
       "1           2  144731.0             warfarin (bulk) 100 % powder   \n",
       "2           6  163180.0                                wymzya fe   \n",
       "3           9    9800.0  12 hour nasal relief spray, non-aerosol   \n",
       "4          10   12112.0                      pyrogallol crystals   \n",
       "\n",
       "       Condition   Ratings  NoOfReviews  index  \n",
       "0    Stuffy Nose  5.000000         54.0      0  \n",
       "1          Other  3.888889          3.0      1  \n",
       "2  Birth Control  1.000000          1.0      2  \n",
       "3    Stuffy Nose  5.000000          1.0      3  \n",
       "4          Other  4.722222         12.0      4  "
      ]
     },
     "execution_count": 2,
     "metadata": {},
     "output_type": "execute_result"
    }
   ],
   "source": [
    "drug_name=pd.read_excel (\"output.xlsx\")\n",
    "drug_name.head()"
   ]
  },
  {
   "cell_type": "code",
   "execution_count": 3,
   "id": "e6775372",
   "metadata": {},
   "outputs": [],
   "source": [
    "selected_features=['Condition','Drug']\n",
    "for feature in selected_features:\n",
    "    drug_name[feature]=drug_name[feature].fillna('')"
   ]
  },
  {
   "cell_type": "code",
   "execution_count": 4,
   "id": "df3f49ba",
   "metadata": {},
   "outputs": [],
   "source": [
    "#List with medicine names\n",
    "med_name=drug_name['Drug'].tolist()\n",
    "#List with conditions\n",
    "cond_name=drug_name['Condition'].tolist()"
   ]
  },
  {
   "cell_type": "code",
   "execution_count": 5,
   "id": "81d655ef",
   "metadata": {},
   "outputs": [],
   "source": [
    "def merge(list1, list2):\n",
    "     \n",
    "    merged_list = tuple(zip(list1, list2))\n",
    "    return merged_list"
   ]
  },
  {
   "cell_type": "code",
   "execution_count": 116,
   "id": "14c7f361",
   "metadata": {},
   "outputs": [],
   "source": [
    "def searching(srch):\n",
    "    #srch=input(\"Enter medicine name or condition : \")\n",
    "\n",
    "    #Finding close match\n",
    "    match=difflib.get_close_matches(srch,med_name,5,0.9)\n",
    "    if len(match)==0:\n",
    "        match=difflib.get_close_matches(srch,cond_name)\n",
    "        print(\"Match: \",match)\n",
    "        for i in range(0,len(match)):\n",
    "            #index_med=list(drug_name[drug_name.Condition==match[i]]['index'])\n",
    "            global rating_med\n",
    "            global med_med\n",
    "            rating=list(drug_name[drug_name.Condition==match[i]]['Ratings'])\n",
    "            rating_med.append(rating[0])\n",
    "            med=list(drug_name[drug_name.Condition==match[i]]['Drug'])\n",
    "            med_med.append(med[0])\n",
    "            print(rating, \" \",rating_med)\n",
    "            print(med,\" \",med_med)\n",
    "            print()\n",
    "        arrange=merge(rating_med,med_med)\n",
    "        sorted_med=sorted(arrange,key=lambda x:x[0], reverse=True)\n",
    "        #print(\"Medicines suggested for you: \")\n",
    "        i=1\n",
    "        list_med=[]\n",
    "        for med in sorted_med:\n",
    "            if i<11:\n",
    "                #print(i,\". \",med[1])\n",
    "                list_med.append(med[1])\n",
    "                i+=1\n",
    "        return list_med\n",
    "    else:\n",
    "        #print(\"Medicines suggested for you: \")\n",
    "        for i in range(0,len(match)): \n",
    "            pass\n",
    "            #print((i+1),\". \",match[i])\n",
    "        return match"
   ]
  },
  {
   "cell_type": "code",
   "execution_count": 117,
   "id": "8ba81145",
   "metadata": {},
   "outputs": [],
   "source": [
    "# Select independent and dependent variable\n",
    "X = drug_name[[\"Drug\", \"Condition\"]]\n",
    "y = drug_name[\"Drug\"]\n",
    "\n",
    "# Split the dataset into train and test\n",
    "X_train, X_test, y_train, y_test = train_test_split(X, y, test_size=0.3, random_state=50)\n",
    "\n",
    "# # Feature scaling\n",
    "# sc = StandardScaler()\n",
    "# X_train = sc.fit_transform(X_train)\n",
    "# X_test= sc.transform(X_test)\n",
    "\n",
    "# Instantiate the model\n",
    "classifier = RandomForestClassifier()\n",
    "\n",
    "# Fit the model\n",
    "# classifier.fit(X_train, y_train)\n",
    "\n",
    "# Make pickle file of our model\n",
    "pickle.dump(classifier, open(\"model.pkl\", \"wb\"))"
   ]
  },
  {
   "cell_type": "code",
   "execution_count": 118,
   "id": "0430f12c",
   "metadata": {},
   "outputs": [
    {
     "name": "stdout",
     "output_type": "stream",
     "text": [
      "Match:  ['infection', 'Throat Irritation', 'Complicated Skin Infection']\n",
      "[nan]   [nan, nan, nan, nan, nan, nan, nan, nan, nan, nan, nan, nan, nan, nan, nan, nan, nan, nan, nan, nan]\n",
      "['bactrim']   ['meropenem vial', 'tygacil vial', 'ertapenem vial', 'dalvance vial', 'bactrim', 'vibramycin', 'meropenem vial', 'bactrim', 'vibramycin', 'meropenem vial', 'bactrim', 'vibramycin', 'meropenem vial', 'bactrim', 'vibramycin', 'meropenem vial', 'bactrim', 'vibramycin', 'meropenem vial', 'bactrim']\n",
      "\n",
      "[nan]   [nan, nan, nan, nan, nan, nan, nan, nan, nan, nan, nan, nan, nan, nan, nan, nan, nan, nan, nan, nan, nan]\n",
      "['vibramycin']   ['meropenem vial', 'tygacil vial', 'ertapenem vial', 'dalvance vial', 'bactrim', 'vibramycin', 'meropenem vial', 'bactrim', 'vibramycin', 'meropenem vial', 'bactrim', 'vibramycin', 'meropenem vial', 'bactrim', 'vibramycin', 'meropenem vial', 'bactrim', 'vibramycin', 'meropenem vial', 'bactrim', 'vibramycin']\n",
      "\n",
      "[nan, nan, nan, nan]   [nan, nan, nan, nan, nan, nan, nan, nan, nan, nan, nan, nan, nan, nan, nan, nan, nan, nan, nan, nan, nan, nan]\n",
      "['meropenem vial', 'tygacil vial', 'ertapenem vial', 'dalvance vial']   ['meropenem vial', 'tygacil vial', 'ertapenem vial', 'dalvance vial', 'bactrim', 'vibramycin', 'meropenem vial', 'bactrim', 'vibramycin', 'meropenem vial', 'bactrim', 'vibramycin', 'meropenem vial', 'bactrim', 'vibramycin', 'meropenem vial', 'bactrim', 'vibramycin', 'meropenem vial', 'bactrim', 'vibramycin', 'meropenem vial']\n",
      "\n",
      "['meropenem vial', 'tygacil vial', 'ertapenem vial', 'dalvance vial', 'bactrim', 'vibramycin', 'meropenem vial', 'bactrim', 'vibramycin', 'meropenem vial']\n"
     ]
    }
   ],
   "source": [
    "k=searching(\"throat infection\")\n",
    "print(k)"
   ]
  },
  {
   "cell_type": "code",
   "execution_count": 110,
   "id": "89d02731",
   "metadata": {},
   "outputs": [
    {
     "data": {
      "text/plain": [
       "[13960.0,\n",
       " 93627.0,\n",
       " 32593.0,\n",
       " 166437.0,\n",
       " 5213.0,\n",
       " 9597.0,\n",
       " 13960.0,\n",
       " 5213.0,\n",
       " 9597.0,\n",
       " 13960.0]"
      ]
     },
     "execution_count": 110,
     "metadata": {},
     "output_type": "execute_result"
    }
   ],
   "source": [
    "def drugid(k):\n",
    "    id=[]\n",
    "    for i in range(0,len(k)):\n",
    "        id_med=list(drug_name[drug_name.Drug==k[i]]['DrugId'])\n",
    "        id.append(id_med[0])\n",
    "    return id\n",
    "\n",
    "drugid(k)"
   ]
  },
  {
   "cell_type": "code",
   "execution_count": 111,
   "id": "24a8adc7",
   "metadata": {},
   "outputs": [
    {
     "data": {
      "text/plain": [
       "[nan, nan, nan, nan, nan, nan, nan, nan, nan, nan]"
      ]
     },
     "execution_count": 111,
     "metadata": {},
     "output_type": "execute_result"
    }
   ],
   "source": [
    "def drugrating(k):\n",
    "    rating=[]\n",
    "    for i in range(0,len(k)):\n",
    "        rating_med=list(drug_name[drug_name.Drug==k[i]]['Ratings'])\n",
    "        rating.append(rating_med[0])\n",
    "    return rating\n",
    "\n",
    "drugrating(k)"
   ]
  },
  {
   "cell_type": "code",
   "execution_count": 112,
   "id": "2d46279b",
   "metadata": {},
   "outputs": [
    {
     "data": {
      "text/plain": [
       "['Complicated Skin Infection',\n",
       " 'Complicated Skin Infection',\n",
       " 'Complicated Skin Infection',\n",
       " 'Complicated Skin Infection',\n",
       " 'infection',\n",
       " 'Throat Irritation',\n",
       " 'Complicated Skin Infection',\n",
       " 'infection',\n",
       " 'Throat Irritation',\n",
       " 'Complicated Skin Infection']"
      ]
     },
     "execution_count": 112,
     "metadata": {},
     "output_type": "execute_result"
    }
   ],
   "source": [
    "def drugcondition(k):\n",
    "    condition=[]\n",
    "    for i in range(0,len(k)):\n",
    "        condition_med=list(drug_name[drug_name.Drug==k[i]]['Condition'])\n",
    "        condition.append(condition_med[0])\n",
    "    return condition\n",
    "\n",
    "drugcondition(k)"
   ]
  },
  {
   "cell_type": "code",
   "execution_count": null,
   "id": "90d2e6d1",
   "metadata": {},
   "outputs": [],
   "source": []
  }
 ],
 "metadata": {
  "kernelspec": {
   "display_name": "Python 3 (ipykernel)",
   "language": "python",
   "name": "python3"
  },
  "language_info": {
   "codemirror_mode": {
    "name": "ipython",
    "version": 3
   },
   "file_extension": ".py",
   "mimetype": "text/x-python",
   "name": "python",
   "nbconvert_exporter": "python",
   "pygments_lexer": "ipython3",
   "version": "3.10.8"
  }
 },
 "nbformat": 4,
 "nbformat_minor": 5
}
