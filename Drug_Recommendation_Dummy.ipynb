{
  "nbformat": 4,
  "nbformat_minor": 0,
  "metadata": {
    "colab": {
      "provenance": [],
      "include_colab_link": true
    },
    "kernelspec": {
      "name": "python3",
      "display_name": "Python 3"
    },
    "language_info": {
      "name": "python"
    }
  },
  "cells": [
    {
      "cell_type": "markdown",
      "metadata": {
        "id": "view-in-github",
        "colab_type": "text"
      },
      "source": [
        "<a href=\"https://colab.research.google.com/github/AynSiddiqui/MyPharmacy/blob/ML/Drug_Recommendation_Dummy.ipynb\" target=\"_parent\"><img src=\"https://colab.research.google.com/assets/colab-badge.svg\" alt=\"Open In Colab\"/></a>"
      ]
    },
    {
      "cell_type": "markdown",
      "metadata": {
        "id": "R1oRN_iiHN_7"
      },
      "source": [
        "Importing the dependencies"
      ]
    },
    {
      "cell_type": "code",
      "metadata": {
        "id": "GAGi6hrzFLOb"
      },
      "source": [
        "import numpy as np\n",
        "import pandas as pd\n",
        "import difflib\n",
        "from sklearn.feature_extraction.text import TfidfVectorizer\n",
        "from sklearn.metrics.pairwise import cosine_similarity"
      ],
      "execution_count": null,
      "outputs": []
    },
    {
      "cell_type": "markdown",
      "metadata": {
        "id": "mfIW1BYVIGfP"
      },
      "source": [
        "Data Collection and Pre-Processing"
      ]
    },
    {
      "cell_type": "code",
      "source": [
        "from google.colab import files\n",
        "\n",
        "uploaded = files.upload()\n",
        "\n",
        "for fn in uploaded.keys():\n",
        "  print('User uploaded file \"{name}\" with length {length} bytes'.format(\n",
        "      name=fn, length=len(uploaded[fn])))"
      ],
      "metadata": {
        "colab": {
          "base_uri": "https://localhost:8080/",
          "height": 91
        },
        "id": "WscnZ5WVEoM8",
        "outputId": "2c98c1de-55c0-472e-cbe0-d5cf26958cb1"
      },
      "execution_count": null,
      "outputs": [
        {
          "output_type": "display_data",
          "data": {
            "text/plain": [
              "<IPython.core.display.HTML object>"
            ],
            "text/html": [
              "\n",
              "     <input type=\"file\" id=\"files-4b750624-c141-4c92-9d40-2f4e61faa7ab\" name=\"files[]\" multiple disabled\n",
              "        style=\"border:none\" />\n",
              "     <output id=\"result-4b750624-c141-4c92-9d40-2f4e61faa7ab\">\n",
              "      Upload widget is only available when the cell has been executed in the\n",
              "      current browser session. Please rerun this cell to enable.\n",
              "      </output>\n",
              "      <script>// Copyright 2017 Google LLC\n",
              "//\n",
              "// Licensed under the Apache License, Version 2.0 (the \"License\");\n",
              "// you may not use this file except in compliance with the License.\n",
              "// You may obtain a copy of the License at\n",
              "//\n",
              "//      http://www.apache.org/licenses/LICENSE-2.0\n",
              "//\n",
              "// Unless required by applicable law or agreed to in writing, software\n",
              "// distributed under the License is distributed on an \"AS IS\" BASIS,\n",
              "// WITHOUT WARRANTIES OR CONDITIONS OF ANY KIND, either express or implied.\n",
              "// See the License for the specific language governing permissions and\n",
              "// limitations under the License.\n",
              "\n",
              "/**\n",
              " * @fileoverview Helpers for google.colab Python module.\n",
              " */\n",
              "(function(scope) {\n",
              "function span(text, styleAttributes = {}) {\n",
              "  const element = document.createElement('span');\n",
              "  element.textContent = text;\n",
              "  for (const key of Object.keys(styleAttributes)) {\n",
              "    element.style[key] = styleAttributes[key];\n",
              "  }\n",
              "  return element;\n",
              "}\n",
              "\n",
              "// Max number of bytes which will be uploaded at a time.\n",
              "const MAX_PAYLOAD_SIZE = 100 * 1024;\n",
              "\n",
              "function _uploadFiles(inputId, outputId) {\n",
              "  const steps = uploadFilesStep(inputId, outputId);\n",
              "  const outputElement = document.getElementById(outputId);\n",
              "  // Cache steps on the outputElement to make it available for the next call\n",
              "  // to uploadFilesContinue from Python.\n",
              "  outputElement.steps = steps;\n",
              "\n",
              "  return _uploadFilesContinue(outputId);\n",
              "}\n",
              "\n",
              "// This is roughly an async generator (not supported in the browser yet),\n",
              "// where there are multiple asynchronous steps and the Python side is going\n",
              "// to poll for completion of each step.\n",
              "// This uses a Promise to block the python side on completion of each step,\n",
              "// then passes the result of the previous step as the input to the next step.\n",
              "function _uploadFilesContinue(outputId) {\n",
              "  const outputElement = document.getElementById(outputId);\n",
              "  const steps = outputElement.steps;\n",
              "\n",
              "  const next = steps.next(outputElement.lastPromiseValue);\n",
              "  return Promise.resolve(next.value.promise).then((value) => {\n",
              "    // Cache the last promise value to make it available to the next\n",
              "    // step of the generator.\n",
              "    outputElement.lastPromiseValue = value;\n",
              "    return next.value.response;\n",
              "  });\n",
              "}\n",
              "\n",
              "/**\n",
              " * Generator function which is called between each async step of the upload\n",
              " * process.\n",
              " * @param {string} inputId Element ID of the input file picker element.\n",
              " * @param {string} outputId Element ID of the output display.\n",
              " * @return {!Iterable<!Object>} Iterable of next steps.\n",
              " */\n",
              "function* uploadFilesStep(inputId, outputId) {\n",
              "  const inputElement = document.getElementById(inputId);\n",
              "  inputElement.disabled = false;\n",
              "\n",
              "  const outputElement = document.getElementById(outputId);\n",
              "  outputElement.innerHTML = '';\n",
              "\n",
              "  const pickedPromise = new Promise((resolve) => {\n",
              "    inputElement.addEventListener('change', (e) => {\n",
              "      resolve(e.target.files);\n",
              "    });\n",
              "  });\n",
              "\n",
              "  const cancel = document.createElement('button');\n",
              "  inputElement.parentElement.appendChild(cancel);\n",
              "  cancel.textContent = 'Cancel upload';\n",
              "  const cancelPromise = new Promise((resolve) => {\n",
              "    cancel.onclick = () => {\n",
              "      resolve(null);\n",
              "    };\n",
              "  });\n",
              "\n",
              "  // Wait for the user to pick the files.\n",
              "  const files = yield {\n",
              "    promise: Promise.race([pickedPromise, cancelPromise]),\n",
              "    response: {\n",
              "      action: 'starting',\n",
              "    }\n",
              "  };\n",
              "\n",
              "  cancel.remove();\n",
              "\n",
              "  // Disable the input element since further picks are not allowed.\n",
              "  inputElement.disabled = true;\n",
              "\n",
              "  if (!files) {\n",
              "    return {\n",
              "      response: {\n",
              "        action: 'complete',\n",
              "      }\n",
              "    };\n",
              "  }\n",
              "\n",
              "  for (const file of files) {\n",
              "    const li = document.createElement('li');\n",
              "    li.append(span(file.name, {fontWeight: 'bold'}));\n",
              "    li.append(span(\n",
              "        `(${file.type || 'n/a'}) - ${file.size} bytes, ` +\n",
              "        `last modified: ${\n",
              "            file.lastModifiedDate ? file.lastModifiedDate.toLocaleDateString() :\n",
              "                                    'n/a'} - `));\n",
              "    const percent = span('0% done');\n",
              "    li.appendChild(percent);\n",
              "\n",
              "    outputElement.appendChild(li);\n",
              "\n",
              "    const fileDataPromise = new Promise((resolve) => {\n",
              "      const reader = new FileReader();\n",
              "      reader.onload = (e) => {\n",
              "        resolve(e.target.result);\n",
              "      };\n",
              "      reader.readAsArrayBuffer(file);\n",
              "    });\n",
              "    // Wait for the data to be ready.\n",
              "    let fileData = yield {\n",
              "      promise: fileDataPromise,\n",
              "      response: {\n",
              "        action: 'continue',\n",
              "      }\n",
              "    };\n",
              "\n",
              "    // Use a chunked sending to avoid message size limits. See b/62115660.\n",
              "    let position = 0;\n",
              "    do {\n",
              "      const length = Math.min(fileData.byteLength - position, MAX_PAYLOAD_SIZE);\n",
              "      const chunk = new Uint8Array(fileData, position, length);\n",
              "      position += length;\n",
              "\n",
              "      const base64 = btoa(String.fromCharCode.apply(null, chunk));\n",
              "      yield {\n",
              "        response: {\n",
              "          action: 'append',\n",
              "          file: file.name,\n",
              "          data: base64,\n",
              "        },\n",
              "      };\n",
              "\n",
              "      let percentDone = fileData.byteLength === 0 ?\n",
              "          100 :\n",
              "          Math.round((position / fileData.byteLength) * 100);\n",
              "      percent.textContent = `${percentDone}% done`;\n",
              "\n",
              "    } while (position < fileData.byteLength);\n",
              "  }\n",
              "\n",
              "  // All done.\n",
              "  yield {\n",
              "    response: {\n",
              "      action: 'complete',\n",
              "    }\n",
              "  };\n",
              "}\n",
              "\n",
              "scope.google = scope.google || {};\n",
              "scope.google.colab = scope.google.colab || {};\n",
              "scope.google.colab._files = {\n",
              "  _uploadFiles,\n",
              "  _uploadFilesContinue,\n",
              "};\n",
              "})(self);\n",
              "</script> "
            ]
          },
          "metadata": {}
        },
        {
          "output_type": "stream",
          "name": "stdout",
          "text": [
            "Saving pharmaceutical_drugs_dataset.csv to pharmaceutical_drugs_dataset.csv\n",
            "User uploaded file \"pharmaceutical_drugs_dataset.csv\" with length 271648 bytes\n"
          ]
        }
      ]
    },
    {
      "cell_type": "code",
      "metadata": {
        "id": "MOXn7CGdIGBU"
      },
      "source": [
        "# loading the data from the csv file to apandas dataframe\n",
        "medicines_data = pd.read_csv('pharmaceutical_drugs_dataset.csv')"
      ],
      "execution_count": null,
      "outputs": []
    },
    {
      "cell_type": "code",
      "metadata": {
        "colab": {
          "base_uri": "https://localhost:8080/",
          "height": 302
        },
        "id": "cha03lDAIa6l",
        "outputId": "bd9e83b5-80c3-4450-cc93-d45c65a86d1d"
      },
      "source": [
        "# printing the first 4 rows of the dataframe\n",
        "medicines_data.head()"
      ],
      "execution_count": null,
      "outputs": [
        {
          "output_type": "execute_result",
          "data": {
            "text/plain": [
              "   index  uniqueID         drugName                     condition  \\\n",
              "0      1    163740      Mirtazapine                    Depression   \n",
              "1      2    206473       Mesalamine  Crohn's Disease, Maintenance   \n",
              "2      3    159672          Bactrim       Urinary Tract Infection   \n",
              "3      4     39293         Contrave                   Weight Loss   \n",
              "4      5     97768  Cyclafem 1 / 35                 Birth Control   \n",
              "\n",
              "                                              review  rating       date  \\\n",
              "0  I&#039;ve tried a few antidepressants over the...      10  28-Feb-12   \n",
              "1  My son has Crohn&#039;s disease and has done v...       8  17-May-09   \n",
              "2                        Quick reduction of symptoms       9  29-Sep-17   \n",
              "3  Contrave combines drugs that were used for alc...       9  05-Mar-17   \n",
              "4  I have been on this birth control for one cycl...       9  22-Oct-15   \n",
              "\n",
              "   usefulCount  Unnamed: 8  Unnamed: 9  Unnamed: 10 Unnamed: 11  \n",
              "0           22         NaN         NaN          NaN         NaN  \n",
              "1           17         NaN         NaN          NaN         NaN  \n",
              "2            3         NaN         NaN          NaN         NaN  \n",
              "3           35         NaN         NaN          NaN         NaN  \n",
              "4            4         NaN         NaN          NaN         NaN  "
            ],
            "text/html": [
              "\n",
              "  <div id=\"df-114d26b5-f7ec-4cff-ae84-dbec269d4b39\">\n",
              "    <div class=\"colab-df-container\">\n",
              "      <div>\n",
              "<style scoped>\n",
              "    .dataframe tbody tr th:only-of-type {\n",
              "        vertical-align: middle;\n",
              "    }\n",
              "\n",
              "    .dataframe tbody tr th {\n",
              "        vertical-align: top;\n",
              "    }\n",
              "\n",
              "    .dataframe thead th {\n",
              "        text-align: right;\n",
              "    }\n",
              "</style>\n",
              "<table border=\"1\" class=\"dataframe\">\n",
              "  <thead>\n",
              "    <tr style=\"text-align: right;\">\n",
              "      <th></th>\n",
              "      <th>index</th>\n",
              "      <th>uniqueID</th>\n",
              "      <th>drugName</th>\n",
              "      <th>condition</th>\n",
              "      <th>review</th>\n",
              "      <th>rating</th>\n",
              "      <th>date</th>\n",
              "      <th>usefulCount</th>\n",
              "      <th>Unnamed: 8</th>\n",
              "      <th>Unnamed: 9</th>\n",
              "      <th>Unnamed: 10</th>\n",
              "      <th>Unnamed: 11</th>\n",
              "    </tr>\n",
              "  </thead>\n",
              "  <tbody>\n",
              "    <tr>\n",
              "      <th>0</th>\n",
              "      <td>1</td>\n",
              "      <td>163740</td>\n",
              "      <td>Mirtazapine</td>\n",
              "      <td>Depression</td>\n",
              "      <td>I&amp;#039;ve tried a few antidepressants over the...</td>\n",
              "      <td>10</td>\n",
              "      <td>28-Feb-12</td>\n",
              "      <td>22</td>\n",
              "      <td>NaN</td>\n",
              "      <td>NaN</td>\n",
              "      <td>NaN</td>\n",
              "      <td>NaN</td>\n",
              "    </tr>\n",
              "    <tr>\n",
              "      <th>1</th>\n",
              "      <td>2</td>\n",
              "      <td>206473</td>\n",
              "      <td>Mesalamine</td>\n",
              "      <td>Crohn's Disease, Maintenance</td>\n",
              "      <td>My son has Crohn&amp;#039;s disease and has done v...</td>\n",
              "      <td>8</td>\n",
              "      <td>17-May-09</td>\n",
              "      <td>17</td>\n",
              "      <td>NaN</td>\n",
              "      <td>NaN</td>\n",
              "      <td>NaN</td>\n",
              "      <td>NaN</td>\n",
              "    </tr>\n",
              "    <tr>\n",
              "      <th>2</th>\n",
              "      <td>3</td>\n",
              "      <td>159672</td>\n",
              "      <td>Bactrim</td>\n",
              "      <td>Urinary Tract Infection</td>\n",
              "      <td>Quick reduction of symptoms</td>\n",
              "      <td>9</td>\n",
              "      <td>29-Sep-17</td>\n",
              "      <td>3</td>\n",
              "      <td>NaN</td>\n",
              "      <td>NaN</td>\n",
              "      <td>NaN</td>\n",
              "      <td>NaN</td>\n",
              "    </tr>\n",
              "    <tr>\n",
              "      <th>3</th>\n",
              "      <td>4</td>\n",
              "      <td>39293</td>\n",
              "      <td>Contrave</td>\n",
              "      <td>Weight Loss</td>\n",
              "      <td>Contrave combines drugs that were used for alc...</td>\n",
              "      <td>9</td>\n",
              "      <td>05-Mar-17</td>\n",
              "      <td>35</td>\n",
              "      <td>NaN</td>\n",
              "      <td>NaN</td>\n",
              "      <td>NaN</td>\n",
              "      <td>NaN</td>\n",
              "    </tr>\n",
              "    <tr>\n",
              "      <th>4</th>\n",
              "      <td>5</td>\n",
              "      <td>97768</td>\n",
              "      <td>Cyclafem 1 / 35</td>\n",
              "      <td>Birth Control</td>\n",
              "      <td>I have been on this birth control for one cycl...</td>\n",
              "      <td>9</td>\n",
              "      <td>22-Oct-15</td>\n",
              "      <td>4</td>\n",
              "      <td>NaN</td>\n",
              "      <td>NaN</td>\n",
              "      <td>NaN</td>\n",
              "      <td>NaN</td>\n",
              "    </tr>\n",
              "  </tbody>\n",
              "</table>\n",
              "</div>\n",
              "      <button class=\"colab-df-convert\" onclick=\"convertToInteractive('df-114d26b5-f7ec-4cff-ae84-dbec269d4b39')\"\n",
              "              title=\"Convert this dataframe to an interactive table.\"\n",
              "              style=\"display:none;\">\n",
              "        \n",
              "  <svg xmlns=\"http://www.w3.org/2000/svg\" height=\"24px\"viewBox=\"0 0 24 24\"\n",
              "       width=\"24px\">\n",
              "    <path d=\"M0 0h24v24H0V0z\" fill=\"none\"/>\n",
              "    <path d=\"M18.56 5.44l.94 2.06.94-2.06 2.06-.94-2.06-.94-.94-2.06-.94 2.06-2.06.94zm-11 1L8.5 8.5l.94-2.06 2.06-.94-2.06-.94L8.5 2.5l-.94 2.06-2.06.94zm10 10l.94 2.06.94-2.06 2.06-.94-2.06-.94-.94-2.06-.94 2.06-2.06.94z\"/><path d=\"M17.41 7.96l-1.37-1.37c-.4-.4-.92-.59-1.43-.59-.52 0-1.04.2-1.43.59L10.3 9.45l-7.72 7.72c-.78.78-.78 2.05 0 2.83L4 21.41c.39.39.9.59 1.41.59.51 0 1.02-.2 1.41-.59l7.78-7.78 2.81-2.81c.8-.78.8-2.07 0-2.86zM5.41 20L4 18.59l7.72-7.72 1.47 1.35L5.41 20z\"/>\n",
              "  </svg>\n",
              "      </button>\n",
              "      \n",
              "  <style>\n",
              "    .colab-df-container {\n",
              "      display:flex;\n",
              "      flex-wrap:wrap;\n",
              "      gap: 12px;\n",
              "    }\n",
              "\n",
              "    .colab-df-convert {\n",
              "      background-color: #E8F0FE;\n",
              "      border: none;\n",
              "      border-radius: 50%;\n",
              "      cursor: pointer;\n",
              "      display: none;\n",
              "      fill: #1967D2;\n",
              "      height: 32px;\n",
              "      padding: 0 0 0 0;\n",
              "      width: 32px;\n",
              "    }\n",
              "\n",
              "    .colab-df-convert:hover {\n",
              "      background-color: #E2EBFA;\n",
              "      box-shadow: 0px 1px 2px rgba(60, 64, 67, 0.3), 0px 1px 3px 1px rgba(60, 64, 67, 0.15);\n",
              "      fill: #174EA6;\n",
              "    }\n",
              "\n",
              "    [theme=dark] .colab-df-convert {\n",
              "      background-color: #3B4455;\n",
              "      fill: #D2E3FC;\n",
              "    }\n",
              "\n",
              "    [theme=dark] .colab-df-convert:hover {\n",
              "      background-color: #434B5C;\n",
              "      box-shadow: 0px 1px 3px 1px rgba(0, 0, 0, 0.15);\n",
              "      filter: drop-shadow(0px 1px 2px rgba(0, 0, 0, 0.3));\n",
              "      fill: #FFFFFF;\n",
              "    }\n",
              "  </style>\n",
              "\n",
              "      <script>\n",
              "        const buttonEl =\n",
              "          document.querySelector('#df-114d26b5-f7ec-4cff-ae84-dbec269d4b39 button.colab-df-convert');\n",
              "        buttonEl.style.display =\n",
              "          google.colab.kernel.accessAllowed ? 'block' : 'none';\n",
              "\n",
              "        async function convertToInteractive(key) {\n",
              "          const element = document.querySelector('#df-114d26b5-f7ec-4cff-ae84-dbec269d4b39');\n",
              "          const dataTable =\n",
              "            await google.colab.kernel.invokeFunction('convertToInteractive',\n",
              "                                                     [key], {});\n",
              "          if (!dataTable) return;\n",
              "\n",
              "          const docLinkHtml = 'Like what you see? Visit the ' +\n",
              "            '<a target=\"_blank\" href=https://colab.research.google.com/notebooks/data_table.ipynb>data table notebook</a>'\n",
              "            + ' to learn more about interactive tables.';\n",
              "          element.innerHTML = '';\n",
              "          dataTable['output_type'] = 'display_data';\n",
              "          await google.colab.output.renderOutput(dataTable, element);\n",
              "          const docLink = document.createElement('div');\n",
              "          docLink.innerHTML = docLinkHtml;\n",
              "          element.appendChild(docLink);\n",
              "        }\n",
              "      </script>\n",
              "    </div>\n",
              "  </div>\n",
              "  "
            ]
          },
          "metadata": {},
          "execution_count": 68
        }
      ]
    },
    {
      "cell_type": "code",
      "metadata": {
        "colab": {
          "base_uri": "https://localhost:8080/"
        },
        "id": "Qrtr0oQbIjwF",
        "outputId": "6b46b222-9566-48d9-c321-a165d744e36b"
      },
      "source": [
        "# number of rows and columns in the data frame\n",
        "\n",
        "medicines_data.shape"
      ],
      "execution_count": null,
      "outputs": [
        {
          "output_type": "execute_result",
          "data": {
            "text/plain": [
              "(523, 12)"
            ]
          },
          "metadata": {},
          "execution_count": 69
        }
      ]
    },
    {
      "cell_type": "code",
      "metadata": {
        "colab": {
          "base_uri": "https://localhost:8080/"
        },
        "id": "hunvyruUJhVq",
        "outputId": "b8d86afa-4939-4a5b-cfbe-386562e69070"
      },
      "source": [
        "# selecting the relevant features for recommendation\n",
        "\n",
        "selected_features = ['condition']\n",
        "print(selected_features)"
      ],
      "execution_count": null,
      "outputs": [
        {
          "output_type": "stream",
          "name": "stdout",
          "text": [
            "['condition']\n"
          ]
        }
      ]
    },
    {
      "cell_type": "code",
      "metadata": {
        "id": "CKIVE6OWKSYk"
      },
      "source": [
        "# replacing the null values with null string\n",
        "\n",
        "for feature in selected_features:\n",
        "  medicines_data[feature] = medicines_data[feature].fillna('')"
      ],
      "execution_count": null,
      "outputs": []
    },
    {
      "cell_type": "code",
      "metadata": {
        "id": "-AMjrRItLCO1"
      },
      "source": [
        "# combining all the 5 selected features\n",
        "\n",
        "combined_features = medicines_data['condition']"
      ],
      "execution_count": null,
      "outputs": []
    },
    {
      "cell_type": "code",
      "metadata": {
        "colab": {
          "base_uri": "https://localhost:8080/"
        },
        "id": "ZYjFXx3aLwTh",
        "outputId": "3c538f10-ff8f-4488-803f-4727bffe5fb2"
      },
      "source": [
        "print(combined_features)"
      ],
      "execution_count": null,
      "outputs": [
        {
          "output_type": "stream",
          "name": "stdout",
          "text": [
            "0                        Depression\n",
            "1      Crohn's Disease, Maintenance\n",
            "2           Urinary Tract Infection\n",
            "3                       Weight Loss\n",
            "4                     Birth Control\n",
            "                   ...             \n",
            "518                   Birth Control\n",
            "519               Bowel Preparation\n",
            "520                   Birth Control\n",
            "521         Emergency Contraception\n",
            "522                Diabetes, Type 2\n",
            "Name: condition, Length: 523, dtype: object\n"
          ]
        }
      ]
    },
    {
      "cell_type": "code",
      "metadata": {
        "id": "BfuttC_gLyfF"
      },
      "source": [
        "# converting the text data to feature vectors\n",
        "\n",
        "vectorizer = TfidfVectorizer()"
      ],
      "execution_count": null,
      "outputs": []
    },
    {
      "cell_type": "code",
      "metadata": {
        "id": "Leo5rQskMKxL"
      },
      "source": [
        "feature_vectors = vectorizer.fit_transform(combined_features)"
      ],
      "execution_count": null,
      "outputs": []
    },
    {
      "cell_type": "code",
      "metadata": {
        "colab": {
          "base_uri": "https://localhost:8080/"
        },
        "id": "qNbeeMSnMb2F",
        "outputId": "11d99218-bb59-4606-a0e0-44979ab701fb"
      },
      "source": [
        "print(feature_vectors)"
      ],
      "execution_count": null,
      "outputs": [
        {
          "output_type": "stream",
          "name": "stdout",
          "text": [
            "  (0, 57)\t1.0\n",
            "  (1, 121)\t0.6089724577729185\n",
            "  (1, 62)\t0.5404805216104652\n",
            "  (1, 52)\t0.5805457358672876\n",
            "  (2, 101)\t0.4447632924960872\n",
            "  (2, 203)\t0.6333188824155016\n",
            "  (2, 206)\t0.6333188824155016\n",
            "  (3, 119)\t0.7071067811865476\n",
            "  (3, 216)\t0.7071067811865476\n",
            "  (4, 49)\t0.7071067811865475\n",
            "  (4, 25)\t0.7071067811865475\n",
            "  (5, 111)\t1.0\n",
            "  (6, 49)\t0.7071067811865475\n",
            "  (6, 25)\t0.7071067811865475\n",
            "  (7, 163)\t0.7071067811865475\n",
            "  (7, 127)\t0.7071067811865475\n",
            "  (8, 218)\t0.7453395614599931\n",
            "  (8, 144)\t0.6666850366722094\n",
            "  (9, 49)\t0.7071067811865475\n",
            "  (9, 25)\t0.7071067811865475\n",
            "  (10, 78)\t0.7071067811865475\n",
            "  (10, 92)\t0.7071067811865475\n",
            "  (11, 219)\t0.6063741006039737\n",
            "  (11, 210)\t0.6063741006039737\n",
            "  (11, 101)\t0.5144131610227757\n",
            "  :\t:\n",
            "  (509, 118)\t0.5773502691896257\n",
            "  (509, 139)\t0.5773502691896257\n",
            "  (510, 24)\t0.7725709410438673\n",
            "  (510, 63)\t0.6349284534926698\n",
            "  (511, 68)\t0.7071067811865475\n",
            "  (511, 73)\t0.7071067811865475\n",
            "  (512, 181)\t0.7849964087606219\n",
            "  (512, 163)\t0.619500313343687\n",
            "  (513, 14)\t0.6877585366137079\n",
            "  (513, 173)\t0.7259395259351643\n",
            "  (514, 13)\t1.0\n",
            "  (515, 13)\t1.0\n",
            "  (516, 9)\t1.0\n",
            "  (517, 205)\t0.7071067811865475\n",
            "  (517, 59)\t0.7071067811865475\n",
            "  (518, 49)\t0.7071067811865475\n",
            "  (518, 25)\t0.7071067811865475\n",
            "  (519, 161)\t0.7186019665075488\n",
            "  (519, 31)\t0.69542160861702\n",
            "  (520, 49)\t0.7071067811865475\n",
            "  (520, 25)\t0.7071067811865475\n",
            "  (521, 48)\t0.7071067811865475\n",
            "  (521, 71)\t0.7071067811865475\n",
            "  (522, 205)\t0.7071067811865475\n",
            "  (522, 59)\t0.7071067811865475\n"
          ]
        }
      ]
    },
    {
      "cell_type": "markdown",
      "metadata": {
        "id": "qEGga5yPMnXO"
      },
      "source": [
        "Cosine Similarity"
      ]
    },
    {
      "cell_type": "code",
      "metadata": {
        "id": "MsKYCs31MeB6"
      },
      "source": [
        "# getting the similarity scores using cosine similarity\n",
        "\n",
        "similarity = cosine_similarity(feature_vectors)"
      ],
      "execution_count": null,
      "outputs": []
    },
    {
      "cell_type": "code",
      "metadata": {
        "colab": {
          "base_uri": "https://localhost:8080/"
        },
        "id": "46ha1PfTM-oQ",
        "outputId": "b47315a8-cac3-4704-ab28-9aac6f19973d"
      },
      "source": [
        "print(similarity)"
      ],
      "execution_count": null,
      "outputs": [
        {
          "output_type": "stream",
          "name": "stdout",
          "text": [
            "[[1. 0. 0. ... 0. 0. 0.]\n",
            " [0. 1. 0. ... 0. 0. 0.]\n",
            " [0. 0. 1. ... 0. 0. 0.]\n",
            " ...\n",
            " [0. 0. 0. ... 1. 0. 0.]\n",
            " [0. 0. 0. ... 0. 1. 0.]\n",
            " [0. 0. 0. ... 0. 0. 1.]]\n"
          ]
        }
      ]
    },
    {
      "cell_type": "code",
      "metadata": {
        "colab": {
          "base_uri": "https://localhost:8080/"
        },
        "id": "PLkvII-wM_5I",
        "outputId": "357ace56-d85a-4f7c-dc11-ea28464ba24b"
      },
      "source": [
        "print(similarity.shape)"
      ],
      "execution_count": null,
      "outputs": [
        {
          "output_type": "stream",
          "name": "stdout",
          "text": [
            "(523, 523)\n"
          ]
        }
      ]
    },
    {
      "cell_type": "markdown",
      "metadata": {
        "id": "EG3JItMUWeDD"
      },
      "source": [
        "Getting the movie name from the user"
      ]
    },
    {
      "cell_type": "code",
      "metadata": {
        "colab": {
          "base_uri": "https://localhost:8080/"
        },
        "id": "bhSWJgqgNDo7",
        "outputId": "fe49a111-55a7-43b6-cc9b-117c5a2b7444"
      },
      "source": [
        "# getting the movie name from the user\n",
        "\n",
        "medicine_name = input(' Enter your favourite medicine name : ')"
      ],
      "execution_count": null,
      "outputs": [
        {
          "name": "stdout",
          "output_type": "stream",
          "text": [
            " Enter your favourite medicine name : Contrave\n"
          ]
        }
      ]
    },
    {
      "cell_type": "code",
      "metadata": {
        "colab": {
          "base_uri": "https://localhost:8080/"
        },
        "id": "VQ8Qvu8vNj4U",
        "outputId": "4826ddf4-c7ac-409c-f546-c4dd2030d4e3"
      },
      "source": [
        "# creating a list with all the medicine names given in the dataset\n",
        "\n",
        "list_of_all_titles = medicines_data['drugName'].tolist()\n",
        "print(list_of_all_titles)"
      ],
      "execution_count": null,
      "outputs": [
        {
          "output_type": "stream",
          "name": "stdout",
          "text": [
            "['Mirtazapine', 'Mesalamine', 'Bactrim', 'Contrave', 'Cyclafem 1 / 35', 'Zyclara', 'Copper', 'Amitriptyline', 'Methadone', 'Levora', 'Paroxetine', 'Miconazole', 'Belviq', 'Seroquel', 'Ambien', 'Nuvigil', 'Chantix', 'Microgestin Fe 1 / 20', 'Klonopin', 'Ciprofloxacin', 'Trazodone', 'EnteraGam', 'Aripiprazole', 'Cyclosporine', 'Oxybutynin', 'Lurasidone', 'Clonazepam', 'Ciclopirox', 'Sodium oxybate', 'Lamotrigine', 'Blisovi Fe 1 / 20', 'Ivermectin', 'Suprep Bowel Prep Kit', 'Movantik', 'Lorcaserin', 'Actos', 'Duloxetine', 'NuvaRing', 'Escitalopram', 'Tesamorelin', 'Campral', 'Gabapentin', 'Levonorgestrel', 'Aubra', 'Plan B One-Step', 'Ethinyl estradiol / etonogestrel', 'Microgestin Fe 1.5 / 30', 'Wellbutrin', 'Clonazepam', 'Benzoyl peroxide / clindamycin', 'Etonogestrel', 'Miconazole', 'Nitrofurantoin', 'Etonogestrel', 'Ortho Tri-Cyclen Lo', 'Tamsulosin', 'Tofacitinib', 'Cryselle', 'Amphetamine / dextroamphetamine', 'Clindamycin', 'Pramipexole', 'Skyla', 'Lastacaft', 'Effexor XR', 'Nifedipine', 'Lurasidone', 'Afrezza', 'Zoloft', 'Ziprasidone', 'Bactrim', 'Ethinyl estradiol / norethindrone', 'Sertraline', 'Aluminum chloride hexahydrate', 'Effexor XR', 'ParaGard', 'Pregabalin', 'Ethinyl estradiol / levonorgestrel', 'Ultram', 'Phentermine', 'Venlafaxine', 'Campral', 'Venlafaxine', 'Levonorgestrel', 'BuSpar', 'Acetaminophen / hydrocodone', 'Aviane', 'Inderal', 'Promethazine', 'Tioconazole', 'Orthovisc', 'Implanon', 'Marezine', 'Levonorgestrel', 'Aripiprazole', 'Minoxidil', 'Humira', 'Insulin inhalation, rapid acting', 'Acetaminophen / hydrocodone', 'Phenazopyridine', 'Levonorgestrel', 'Clonidine', 'Ethinyl estradiol / norgestimate', 'Nicoderm CQ', 'Levonorgestrel', 'Celecoxib', 'Fluoxetine', 'Topamax', 'Depakote', 'Riboflavin', 'Lo Loestrin Fe', 'Copper', 'Drospirenone / estradiol', 'Bupropion', 'Bacitracin / neomycin / polymyxin b', 'Phentermine', 'Yaz', 'Copper', 'Amitriptyline', 'Jolessa', 'Guaifenesin / pseudoephedrine', 'Oxycodone', 'Nexplanon', 'Bupropion', 'Brisdelle', 'Bupropion', 'Beyaz', 'Lo Loestrin Fe', 'Ethinyl estradiol / norgestimate', 'Yasmin', 'Bupropion', 'Zoloft', 'Nucynta ER', 'Prozac', 'BuSpar', 'Kariva', 'Escitalopram', 'Microgestin Fe 1 / 20', 'Liraglutide', 'Sutent', 'Ethinyl estradiol / norethindrone', 'Tramadol', 'Tylenol with Codeine #3', 'BuSpar', 'Magnesium citrate', 'Tioconazole', 'Depo-Provera', 'Drospirenone / ethinyl estradiol', 'Safyral', 'Levonorgestrel', 'Effexor XR', 'Desyrel', 'Glyburide', 'Escitalopram', 'Aldesleukin', 'Zoloft', 'Desvenlafaxine', 'Levonorgestrel', 'Drospirenone / ethinyl estradiol', 'Phentermine / topiramate', 'Pristiq', 'Lurasidone', 'Miconazole', 'Acamprosate', 'Spironolactone', 'Doxylamine / pyridoxine', 'Demerol', 'Vyvanse', 'Depo-Provera', 'Sovaldi', 'Sertraline', 'Motrin IB', 'Valacyclovir', 'Buprenorphine / naloxone', 'Metoprolol', 'Pristiq', 'Montelukast', 'Dextromethorphan', 'Levitra', 'Restoril', 'Azathioprine', 'Adapalene / benzoyl peroxide', 'Linzess', 'Levetiracetam', 'Ziana', 'Suboxone', 'Nexplanon', 'Tinidazole', 'Diazepam', 'Spironolactone', 'Quetiapine', 'Acetaminophen / butalbital / caffeine', 'Ethinyl estradiol / norethindrone', 'Estradiol', 'Gabapentin', 'ParaGard', 'Propofol', 'Depo-Provera', 'Propranolol', 'Adapalene / benzoyl peroxide', 'Yaz', 'Levofloxacin', 'Vilazodone', 'Accutane', 'Bupropion', 'Nalbuphine', 'Lexapro', 'Quetiapine', 'MiraLax', 'Clonazepam', 'Phenobarbital', 'Levonorgestrel', 'Tri-Sprintec', 'Metronidazole', 'Tramadol', 'Metoprolol', 'Imiquimod', 'Caffeine', 'Levonorgestrel', 'Etonogestrel', 'Lisinopril', 'Benzonatate', 'Diazepam', 'Ayr Saline Nasal', 'Venlafaxine', 'Clarithromycin', 'Enbrel', 'Ethinyl estradiol / norethindrone', 'Polyethylene glycol 3350 with electrolytes', 'Implanon', 'Gabapentin', 'Microgestin Fe 1 / 20', 'Restasis', 'Belviq', 'Tioconazole', 'Symbyax', 'Zoloft', 'Zoloft', 'Vilazodone', 'Tretinoin', 'Gleevec', 'Desvenlafaxine', 'Nexplanon', 'Ropinirole', 'Aviane', 'Depo-Provera', 'Gabapentin', 'Ethinyl estradiol / levonorgestrel', 'Ethinyl estradiol / etonogestrel', 'Clomiphene', 'Clotrimazole', 'Topiramate', 'Etonogestrel', 'Ambien', 'Vyvanse', 'Fluorouracil', 'Genvoya', 'Tramadol', 'Tessalon Perles', 'Asenapine', 'Gabapentin', 'Adipex-P', 'Ethinyl estradiol / levonorgestrel', 'Suprep Bowel Prep Kit', 'Prenatal Plus', 'Keflex', 'Vitamin D2', 'Flexeril', 'Viibryd', 'Lysteda', 'Topiramate', 'Omnicef', 'Augmentin', 'Pentasa', 'Zofran', 'Kapidex', 'Serzone', 'Ethinyl estradiol / norgestimate', 'Zoloft', 'Hyoscyamine / methenamine / methylene blue / phenyl salicylate', 'Diphenhydramine', 'Minocycline', 'Monistat 3-Day Combination Pack', 'Pitocin', 'Levonorgestrel', 'Pyridostigmine', 'Naprosyn', 'Elocon', 'Clindamycin', 'Pazopanib', 'Skyla', 'Denosumab', 'Bisacodyl', 'Paxil', 'Methotrexate', 'Sprintec', 'Etonogestrel', 'Ciprofloxacin', 'Levonorgestrel', 'Adipex-P', 'Liraglutide', 'Buprenex', 'Apri', 'Implanon', 'Benzoyl peroxide / erythromycin', 'Metronidazole', 'Qsymia', 'Lexapro', 'Lyrica', 'Trintellix', 'Metronidazole', 'Klonopin', 'BuSpar', 'Oseltamivir', 'Seasonique', 'Niravam', 'Etonogestrel', 'Celexa', 'Codeine / guaifenesin', 'Bupropion', 'Klonopin', 'Spironolactone', 'NuvaRing', 'Minocycline', 'Plan B One-Step', 'Cefuroxime', 'Ortho Evra', 'Fluoxetine', 'Xanax', 'Ondansetron', 'Dulaglutide', 'Supartz', 'Naproxen', 'Alesse', 'Tretinoin', 'Ambien', 'Orlistat', 'Microgestin Fe 1.5 / 30', 'Yaz', 'Methylprednisolone', 'Cymbalta', 'Nexplanon', 'Aspirin / carisoprodol', 'Clarithromycin', 'Canagliflozin', 'Nasonex', 'Oxycodone', 'Vyvanse', 'Junel Fe 1 / 20', 'Kombiglyze XR', 'Levofloxacin', 'Pegfilgrastim', 'Phentermine', 'Levonorgestrel', 'Lisinopril', 'Azelaic acid', 'Mirena', 'Suvorexant', 'Lysine', 'Duloxetine', 'Nexium', 'Junel Fe 1 / 20', 'Citalopram', 'Drysol', 'Miconazole', 'Corticotropin', 'Benzonatate', 'Mirtazapine', 'Lexapro', 'Seroquel', 'Nexplanon', 'Oxycodone', 'Meclizine', 'Cefdinir', 'Tri-Sprintec', 'Implanon', 'Citalopram', 'Methocarbamol', 'Ambien', 'Azithromycin', 'Tri-Sprintec', 'Sinemet', 'Fluorouracil', 'Esomeprazole', 'Prednisone', 'Fentanyl', 'Pseudoephedrine', 'Risperidone', 'Alpha 1-proteinase inhibitor', 'Phentermine / topiramate', 'Junel Fe 1.5 / 30', 'Mirena', 'Copper', 'Divalproex sodium', 'Lamotrigine', 'Pravastatin', 'Amitriptyline', 'Vardenafil', 'Abilify', 'Amlodipine', 'Clonazepam', 'Skyla', 'Carvedilol', 'Xyzal', 'Budeprion SR', 'Amitriptyline', 'Desvenlafaxine', 'Rosuvastatin', 'Phentermine', 'Victoza', 'Gabapentin', 'Mirena', 'Percocet', 'Contrave', 'Trulicity', 'Ethinyl estradiol / levonorgestrel', 'Vyvanse', 'Junel Fe 1 / 20', 'Tranexamic acid', 'Contrave', 'Nexplanon', 'Phentermine', 'NuvaRing', 'Dextromethorphan', 'Junel Fe 1 / 20', 'Paxil CR', 'Adipex-P', 'ParaGard', 'OxyContin', 'Miconazole', 'Chlordiazepoxide', 'Olanzapine', 'Lo Loestrin Fe', 'Levonorgestrel', 'Zoloft', 'Doxycycline', 'Aviane', 'CellCept', 'Lamotrigine', 'Phentermine', 'Imodium A-D', 'Oxycodone', 'Azathioprine', 'Topamax', 'Etonogestrel', 'Doxycycline', 'Cobicistat / elvitegravir / emtricitabine / tenofovir alafenamide', 'Plan B One-Step', 'Etonogestrel', 'Chateal', 'Rizatriptan', 'ParaGard', 'Strattera', 'Monistat 7-Day Combination Pack', 'Spironolactone', 'Valacyclovir', 'Tramadol', 'Cyclobenzaprine', 'Escitalopram', 'Ethinyl estradiol / norelgestromin', 'Sprintec', 'Uptravi', 'Eletriptan', 'Prednisone', 'Skyla', 'Isotretinoin', 'Lisinopril', 'Nitrofurantoin', 'Wellbutrin', 'Rosula', 'Qsymia', 'Methyldopa', 'ParaGard', 'Fetzima', 'Linaclotide', 'Levonorgestrel', 'Nitrofurantoin', 'Arimidex', 'Bupropion', 'Ondansetron', 'Eszopiclone', 'Mononessa', 'Topiramate', 'Implanon', 'Norethindrone', 'Medroxyprogesterone', 'Synvisc-One', 'Xulane', 'Remeron', 'Quetiapine', 'Viibryd', 'Pamelor', 'Xanax', 'Ethinyl estradiol / norethindrone', 'Etonogestrel', 'Orphenadrine', 'Etanercept', 'Bupropion / naltrexone', 'Milnacipran', 'Klonopin', 'Chantix', 'Acetaminophen / codeine', 'Penicillin v potassium', 'Varenicline', 'Bupropion / naltrexone', 'Implanon', 'Bisacodyl', 'Advair Diskus', 'Cialis', 'Ethinyl estradiol / norelgestromin', 'Tadalafil', 'Olanzapine', 'Tadalafil', 'Klonopin', 'Humira', 'Alprazolam', 'Clonazepam', 'Minoxidil', 'Dulaglutide', 'Desogestrel / ethinyl estradiol', 'Suprep Bowel Prep Kit', 'Levonorgestrel', 'Levonorgestrel', 'Metformin']\n"
          ]
        }
      ]
    },
    {
      "cell_type": "code",
      "metadata": {
        "colab": {
          "base_uri": "https://localhost:8080/"
        },
        "id": "u1HTkBLIOBjf",
        "outputId": "05e9ef02-7d91-41e1-8ee7-381ece3e4574"
      },
      "source": [
        "# finding the close match for the movie name given by the user\n",
        "\n",
        "find_close_match = difflib.get_close_matches(medicine_name, list_of_all_titles)\n",
        "print(find_close_match)"
      ],
      "execution_count": null,
      "outputs": [
        {
          "output_type": "stream",
          "name": "stdout",
          "text": [
            "['Contrave', 'Contrave', 'Contrave']\n"
          ]
        }
      ]
    },
    {
      "cell_type": "code",
      "metadata": {
        "colab": {
          "base_uri": "https://localhost:8080/"
        },
        "id": "CgiC-enuOfXx",
        "outputId": "fcbd40c2-cf87-4d1e-93f9-3edd09924a50"
      },
      "source": [
        "close_match = find_close_match[0]\n",
        "print(close_match)"
      ],
      "execution_count": null,
      "outputs": [
        {
          "output_type": "stream",
          "name": "stdout",
          "text": [
            "Contrave\n"
          ]
        }
      ]
    },
    {
      "cell_type": "code",
      "metadata": {
        "colab": {
          "base_uri": "https://localhost:8080/"
        },
        "id": "CNXJfY-FOw1I",
        "outputId": "57d1665a-b202-4d6d-b7a4-5e01d330df8f"
      },
      "source": [
        "# finding the index of the movie with title\n",
        "\n",
        "index_of_the_movie = medicines_data[medicines_data.drugName == close_match]['index'].values[0]\n",
        "print(index_of_the_movie)"
      ],
      "execution_count": null,
      "outputs": [
        {
          "output_type": "stream",
          "name": "stdout",
          "text": [
            "4\n"
          ]
        }
      ]
    },
    {
      "cell_type": "code",
      "metadata": {
        "colab": {
          "base_uri": "https://localhost:8080/"
        },
        "id": "dyUeQZpvPbkx",
        "outputId": "6bc95930-7e7a-4da6-c56a-46b8a3b8cf05"
      },
      "source": [
        "# getting a list of similar movies\n",
        "\n",
        "similarity_score = list(enumerate(similarity[index_of_the_movie]))\n",
        "print(similarity_score)"
      ],
      "execution_count": null,
      "outputs": [
        {
          "output_type": "stream",
          "name": "stdout",
          "text": [
            "[(0, 0.0), (1, 0.0), (2, 0.0), (3, 0.0), (4, 1.0000000000000002), (5, 0.0), (6, 1.0000000000000002), (7, 0.0), (8, 0.0), (9, 1.0000000000000002), (10, 0.0), (11, 0.0), (12, 0.0), (13, 0.0), (14, 0.0), (15, 0.0), (16, 0.0), (17, 0.0), (18, 0.0), (19, 0.0), (20, 0.0), (21, 0.0), (22, 0.0), (23, 0.0), (24, 0.0), (25, 0.0), (26, 0.0), (27, 0.0), (28, 0.0), (29, 0.0), (30, 1.0000000000000002), (31, 0.0), (32, 0.0), (33, 0.0), (34, 0.0), (35, 0.0), (36, 0.0), (37, 1.0000000000000002), (38, 0.0), (39, 0.0), (40, 0.0), (41, 0.0), (42, 0.0), (43, 1.0000000000000002), (44, 0.0), (45, 1.0000000000000002), (46, 1.0000000000000002), (47, 0.0), (48, 0.0), (49, 0.0), (50, 1.0000000000000002), (51, 0.0), (52, 0.0), (53, 1.0000000000000002), (54, 1.0000000000000002), (55, 0.0), (56, 0.0), (57, 0.0), (58, 0.0), (59, 0.0), (60, 0.0), (61, 1.0000000000000002), (62, 0.0), (63, 0.0), (64, 0.0), (65, 0.0), (66, 0.0), (67, 0.0), (68, 0.0), (69, 0.0), (70, 1.0000000000000002), (71, 0.0), (72, 0.0), (73, 0.0), (74, 1.0000000000000002), (75, 0.0), (76, 1.0000000000000002), (77, 0.0), (78, 0.0), (79, 0.0), (80, 0.0), (81, 0.0), (82, 0.0), (83, 0.0), (84, 0.0), (85, 1.0000000000000002), (86, 0.0), (87, 0.0), (88, 0.0), (89, 0.0), (90, 1.0000000000000002), (91, 0.0), (92, 1.0000000000000002), (93, 0.0), (94, 0.0), (95, 0.0), (96, 0.0), (97, 0.0), (98, 0.0), (99, 1.0000000000000002), (100, 0.0), (101, 1.0000000000000002), (102, 0.0), (103, 0.0), (104, 0.0), (105, 0.0), (106, 0.0), (107, 0.0), (108, 0.0), (109, 1.0000000000000002), (110, 1.0000000000000002), (111, 0.0), (112, 0.0), (113, 0.0), (114, 0.0), (115, 1.0000000000000002), (116, 1.0000000000000002), (117, 0.0), (118, 1.0000000000000002), (119, 0.0), (120, 0.0), (121, 1.0000000000000002), (122, 0.0), (123, 0.0), (124, 0.0), (125, 0.0), (126, 1.0000000000000002), (127, 1.0000000000000002), (128, 0.0), (129, 0.0), (130, 0.0), (131, 0.0), (132, 0.0), (133, 0.0), (134, 1.0000000000000002), (135, 0.0), (136, 0.0), (137, 0.0), (138, 0.0), (139, 1.0000000000000002), (140, 0.0), (141, 0.0), (142, 0.0), (143, 0.0), (144, 0.0), (145, 1.0000000000000002), (146, 0.0), (147, 1.0000000000000002), (148, 0.0), (149, 0.0), (150, 0.0), (151, 0.0), (152, 0.0), (153, 0.0), (154, 0.0), (155, 0.0), (156, 0.0), (157, 1.0000000000000002), (158, 0.0), (159, 0.0), (160, 0.0), (161, 0.0), (162, 0.0), (163, 0.0), (164, 0.0), (165, 0.0), (166, 0.0), (167, 1.0000000000000002), (168, 0.0), (169, 0.0), (170, 0.0), (171, 0.0), (172, 0.0), (173, 0.0), (174, 0.0), (175, 0.0), (176, 0.0), (177, 0.0), (178, 0.0), (179, 0.0), (180, 0.0), (181, 0.0), (182, 0.0), (183, 0.0), (184, 0.0), (185, 1.0000000000000002), (186, 0.0), (187, 0.0), (188, 0.0), (189, 0.0), (190, 0.0), (191, 1.0000000000000002), (192, 0.0), (193, 0.0), (194, 1.0000000000000002), (195, 0.0), (196, 1.0000000000000002), (197, 0.0), (198, 0.0), (199, 0.0), (200, 0.0), (201, 0.0), (202, 0.0), (203, 0.0), (204, 0.0), (205, 0.0), (206, 0.0), (207, 0.0), (208, 0.0), (209, 0.0), (210, 1.0000000000000002), (211, 0.0), (212, 0.0), (213, 0.0), (214, 0.0), (215, 0.0), (216, 0.0), (217, 1.0000000000000002), (218, 1.0000000000000002), (219, 0.0), (220, 0.0), (221, 0.0), (222, 0.0), (223, 0.0), (224, 0.0), (225, 0.0), (226, 1.0000000000000002), (227, 0.0), (228, 1.0000000000000002), (229, 0.0), (230, 1.0000000000000002), (231, 0.0), (232, 0.0), (233, 0.0), (234, 0.0), (235, 0.0), (236, 0.0), (237, 0.0), (238, 0.0), (239, 0.0), (240, 0.0), (241, 1.0000000000000002), (242, 0.0), (243, 1.0000000000000002), (244, 0.0), (245, 0.0), (246, 1.0000000000000002), (247, 1.0000000000000002), (248, 0.0), (249, 0.0), (250, 0.0), (251, 1.0000000000000002), (252, 0.0), (253, 0.0), (254, 0.0), (255, 0.0), (256, 0.0), (257, 0.0), (258, 0.0), (259, 0.0), (260, 0.0), (261, 1.0000000000000002), (262, 0.0), (263, 0.0), (264, 0.0), (265, 0.0), (266, 0.0), (267, 0.0), (268, 0.0), (269, 0.0), (270, 0.0), (271, 0.0), (272, 0.0), (273, 0.0), (274, 0.0), (275, 0.0), (276, 1.0000000000000002), (277, 0.0), (278, 0.0), (279, 0.0), (280, 0.0), (281, 0.0), (282, 0.0), (283, 1.0000000000000002), (284, 0.0), (285, 0.0), (286, 0.0), (287, 0.0), (288, 0.0), (289, 1.0000000000000002), (290, 0.0), (291, 0.0), (292, 0.0), (293, 0.0), (294, 0.0), (295, 1.0000000000000002), (296, 0.0), (297, 1.0000000000000002), (298, 0.0), (299, 0.0), (300, 0.0), (301, 1.0000000000000002), (302, 1.0000000000000002), (303, 0.0), (304, 0.0), (305, 0.0), (306, 0.0), (307, 0.0), (308, 0.0), (309, 0.0), (310, 0.0), (311, 0.0), (312, 0.0), (313, 0.0), (314, 0.0), (315, 1.0000000000000002), (316, 0.0), (317, 0.0), (318, 0.0), (319, 0.0), (320, 0.0), (321, 1.0000000000000002), (322, 0.0), (323, 0.0), (324, 0.0), (325, 1.0000000000000002), (326, 0.0), (327, 0.0), (328, 0.0), (329, 0.0), (330, 0.0), (331, 0.0), (332, 1.0000000000000002), (333, 0.0), (334, 0.0), (335, 0.0), (336, 1.0000000000000002), (337, 1.0000000000000002), (338, 0.0), (339, 0.0), (340, 1.0000000000000002), (341, 0.0), (342, 0.0), (343, 0.0), (344, 0.0), (345, 0.0), (346, 0.0), (347, 1.0000000000000002), (348, 0.0), (349, 0.0), (350, 0.0), (351, 0.0), (352, 0.0), (353, 0.0), (354, 0.0), (355, 1.0000000000000002), (356, 0.0), (357, 0.0), (358, 0.0), (359, 0.0), (360, 0.0), (361, 0.0), (362, 0.0), (363, 0.0), (364, 0.0), (365, 0.0), (366, 0.0), (367, 0.0), (368, 0.0), (369, 1.0000000000000002), (370, 0.0), (371, 0.0), (372, 0.0), (373, 1.0000000000000002), (374, 1.0000000000000002), (375, 0.0), (376, 0.0), (377, 0.0), (378, 0.0), (379, 1.0000000000000002), (380, 0.0), (381, 0.0), (382, 0.0), (383, 0.0), (384, 0.0), (385, 0.0), (386, 0.0), (387, 0.0), (388, 0.0), (389, 1.0000000000000002), (390, 1.0000000000000002), (391, 1.0000000000000002), (392, 0.0), (393, 0.0), (394, 0.0), (395, 0.0), (396, 0.0), (397, 0.0), (398, 0.0), (399, 0.0), (400, 1.0000000000000002), (401, 0.0), (402, 0.0), (403, 0.0), (404, 0.0), (405, 0.0), (406, 0.0), (407, 0.0), (408, 0.0), (409, 0.0), (410, 1.0000000000000002), (411, 0.0), (412, 0.0), (413, 0.0), (414, 1.0000000000000002), (415, 0.0), (416, 1.0000000000000002), (417, 0.0), (418, 0.0), (419, 1.0000000000000002), (420, 0.0), (421, 1.0000000000000002), (422, 0.0), (423, 0.0), (424, 0.0), (425, 0.0), (426, 1.0000000000000002), (427, 0.0), (428, 0.0), (429, 0.0), (430, 0.0), (431, 1.0000000000000002), (432, 0.0), (433, 0.0), (434, 0.0), (435, 1.0000000000000002), (436, 0.0), (437, 0.0), (438, 0.0), (439, 0.0), (440, 0.0), (441, 0.0), (442, 0.0), (443, 1.0000000000000002), (444, 0.0), (445, 0.0), (446, 0.0), (447, 1.0000000000000002), (448, 1.0000000000000002), (449, 0.0), (450, 1.0000000000000002), (451, 0.0), (452, 0.0), (453, 0.0), (454, 0.0), (455, 0.0), (456, 0.0), (457, 0.0), (458, 1.0000000000000002), (459, 1.0000000000000002), (460, 0.0), (461, 0.0), (462, 0.0), (463, 1.0000000000000002), (464, 0.0), (465, 0.0), (466, 0.0), (467, 0.0), (468, 0.0), (469, 0.0), (470, 0.0), (471, 1.0000000000000002), (472, 0.0), (473, 0.0), (474, 1.0000000000000002), (475, 0.0), (476, 0.0), (477, 0.0), (478, 0.0), (479, 0.0), (480, 1.0000000000000002), (481, 0.0), (482, 1.0000000000000002), (483, 0.0), (484, 0.0), (485, 0.0), (486, 1.0000000000000002), (487, 0.0), (488, 0.0), (489, 0.0), (490, 0.0), (491, 0.0), (492, 1.0000000000000002), (493, 1.0000000000000002), (494, 0.0), (495, 0.0), (496, 0.0), (497, 0.0), (498, 0.0), (499, 0.0), (500, 0.0), (501, 0.0), (502, 0.0), (503, 0.0), (504, 1.0000000000000002), (505, 0.0), (506, 0.0), (507, 0.0), (508, 1.0000000000000002), (509, 0.0), (510, 0.0), (511, 0.0), (512, 0.0), (513, 0.0), (514, 0.0), (515, 0.0), (516, 0.0), (517, 0.0), (518, 1.0000000000000002), (519, 0.0), (520, 1.0000000000000002), (521, 0.0), (522, 0.0)]\n"
          ]
        }
      ]
    },
    {
      "cell_type": "code",
      "metadata": {
        "colab": {
          "base_uri": "https://localhost:8080/"
        },
        "id": "mMrxw-leQNtP",
        "outputId": "b934fe29-7de8-435e-b07d-21a61f130619"
      },
      "source": [
        "len(similarity_score)"
      ],
      "execution_count": null,
      "outputs": [
        {
          "output_type": "execute_result",
          "data": {
            "text/plain": [
              "523"
            ]
          },
          "metadata": {},
          "execution_count": 134
        }
      ]
    },
    {
      "cell_type": "code",
      "metadata": {
        "colab": {
          "base_uri": "https://localhost:8080/"
        },
        "id": "SkXgFLePQkHL",
        "outputId": "512c76be-d9d5-40b6-ab75-88d5931bf283"
      },
      "source": [
        "# sorting the movies based on their similarity score\n",
        "\n",
        "sorted_similar_movies = sorted(similarity_score, key = lambda x:x[1], reverse = True) \n",
        "print(sorted_similar_movies)"
      ],
      "execution_count": null,
      "outputs": [
        {
          "output_type": "stream",
          "name": "stdout",
          "text": [
            "[(4, 1.0000000000000002), (6, 1.0000000000000002), (9, 1.0000000000000002), (30, 1.0000000000000002), (37, 1.0000000000000002), (43, 1.0000000000000002), (45, 1.0000000000000002), (46, 1.0000000000000002), (50, 1.0000000000000002), (53, 1.0000000000000002), (54, 1.0000000000000002), (61, 1.0000000000000002), (70, 1.0000000000000002), (74, 1.0000000000000002), (76, 1.0000000000000002), (85, 1.0000000000000002), (90, 1.0000000000000002), (92, 1.0000000000000002), (99, 1.0000000000000002), (101, 1.0000000000000002), (109, 1.0000000000000002), (110, 1.0000000000000002), (115, 1.0000000000000002), (116, 1.0000000000000002), (118, 1.0000000000000002), (121, 1.0000000000000002), (126, 1.0000000000000002), (127, 1.0000000000000002), (134, 1.0000000000000002), (139, 1.0000000000000002), (145, 1.0000000000000002), (147, 1.0000000000000002), (157, 1.0000000000000002), (167, 1.0000000000000002), (185, 1.0000000000000002), (191, 1.0000000000000002), (194, 1.0000000000000002), (196, 1.0000000000000002), (210, 1.0000000000000002), (217, 1.0000000000000002), (218, 1.0000000000000002), (226, 1.0000000000000002), (228, 1.0000000000000002), (230, 1.0000000000000002), (241, 1.0000000000000002), (243, 1.0000000000000002), (246, 1.0000000000000002), (247, 1.0000000000000002), (251, 1.0000000000000002), (261, 1.0000000000000002), (276, 1.0000000000000002), (283, 1.0000000000000002), (289, 1.0000000000000002), (295, 1.0000000000000002), (297, 1.0000000000000002), (301, 1.0000000000000002), (302, 1.0000000000000002), (315, 1.0000000000000002), (321, 1.0000000000000002), (325, 1.0000000000000002), (332, 1.0000000000000002), (336, 1.0000000000000002), (337, 1.0000000000000002), (340, 1.0000000000000002), (347, 1.0000000000000002), (355, 1.0000000000000002), (369, 1.0000000000000002), (373, 1.0000000000000002), (374, 1.0000000000000002), (379, 1.0000000000000002), (389, 1.0000000000000002), (390, 1.0000000000000002), (391, 1.0000000000000002), (400, 1.0000000000000002), (410, 1.0000000000000002), (414, 1.0000000000000002), (416, 1.0000000000000002), (419, 1.0000000000000002), (421, 1.0000000000000002), (426, 1.0000000000000002), (431, 1.0000000000000002), (435, 1.0000000000000002), (443, 1.0000000000000002), (447, 1.0000000000000002), (448, 1.0000000000000002), (450, 1.0000000000000002), (458, 1.0000000000000002), (459, 1.0000000000000002), (463, 1.0000000000000002), (471, 1.0000000000000002), (474, 1.0000000000000002), (480, 1.0000000000000002), (482, 1.0000000000000002), (486, 1.0000000000000002), (492, 1.0000000000000002), (493, 1.0000000000000002), (504, 1.0000000000000002), (508, 1.0000000000000002), (518, 1.0000000000000002), (520, 1.0000000000000002), (0, 0.0), (1, 0.0), (2, 0.0), (3, 0.0), (5, 0.0), (7, 0.0), (8, 0.0), (10, 0.0), (11, 0.0), (12, 0.0), (13, 0.0), (14, 0.0), (15, 0.0), (16, 0.0), (17, 0.0), (18, 0.0), (19, 0.0), (20, 0.0), (21, 0.0), (22, 0.0), (23, 0.0), (24, 0.0), (25, 0.0), (26, 0.0), (27, 0.0), (28, 0.0), (29, 0.0), (31, 0.0), (32, 0.0), (33, 0.0), (34, 0.0), (35, 0.0), (36, 0.0), (38, 0.0), (39, 0.0), (40, 0.0), (41, 0.0), (42, 0.0), (44, 0.0), (47, 0.0), (48, 0.0), (49, 0.0), (51, 0.0), (52, 0.0), (55, 0.0), (56, 0.0), (57, 0.0), (58, 0.0), (59, 0.0), (60, 0.0), (62, 0.0), (63, 0.0), (64, 0.0), (65, 0.0), (66, 0.0), (67, 0.0), (68, 0.0), (69, 0.0), (71, 0.0), (72, 0.0), (73, 0.0), (75, 0.0), (77, 0.0), (78, 0.0), (79, 0.0), (80, 0.0), (81, 0.0), (82, 0.0), (83, 0.0), (84, 0.0), (86, 0.0), (87, 0.0), (88, 0.0), (89, 0.0), (91, 0.0), (93, 0.0), (94, 0.0), (95, 0.0), (96, 0.0), (97, 0.0), (98, 0.0), (100, 0.0), (102, 0.0), (103, 0.0), (104, 0.0), (105, 0.0), (106, 0.0), (107, 0.0), (108, 0.0), (111, 0.0), (112, 0.0), (113, 0.0), (114, 0.0), (117, 0.0), (119, 0.0), (120, 0.0), (122, 0.0), (123, 0.0), (124, 0.0), (125, 0.0), (128, 0.0), (129, 0.0), (130, 0.0), (131, 0.0), (132, 0.0), (133, 0.0), (135, 0.0), (136, 0.0), (137, 0.0), (138, 0.0), (140, 0.0), (141, 0.0), (142, 0.0), (143, 0.0), (144, 0.0), (146, 0.0), (148, 0.0), (149, 0.0), (150, 0.0), (151, 0.0), (152, 0.0), (153, 0.0), (154, 0.0), (155, 0.0), (156, 0.0), (158, 0.0), (159, 0.0), (160, 0.0), (161, 0.0), (162, 0.0), (163, 0.0), (164, 0.0), (165, 0.0), (166, 0.0), (168, 0.0), (169, 0.0), (170, 0.0), (171, 0.0), (172, 0.0), (173, 0.0), (174, 0.0), (175, 0.0), (176, 0.0), (177, 0.0), (178, 0.0), (179, 0.0), (180, 0.0), (181, 0.0), (182, 0.0), (183, 0.0), (184, 0.0), (186, 0.0), (187, 0.0), (188, 0.0), (189, 0.0), (190, 0.0), (192, 0.0), (193, 0.0), (195, 0.0), (197, 0.0), (198, 0.0), (199, 0.0), (200, 0.0), (201, 0.0), (202, 0.0), (203, 0.0), (204, 0.0), (205, 0.0), (206, 0.0), (207, 0.0), (208, 0.0), (209, 0.0), (211, 0.0), (212, 0.0), (213, 0.0), (214, 0.0), (215, 0.0), (216, 0.0), (219, 0.0), (220, 0.0), (221, 0.0), (222, 0.0), (223, 0.0), (224, 0.0), (225, 0.0), (227, 0.0), (229, 0.0), (231, 0.0), (232, 0.0), (233, 0.0), (234, 0.0), (235, 0.0), (236, 0.0), (237, 0.0), (238, 0.0), (239, 0.0), (240, 0.0), (242, 0.0), (244, 0.0), (245, 0.0), (248, 0.0), (249, 0.0), (250, 0.0), (252, 0.0), (253, 0.0), (254, 0.0), (255, 0.0), (256, 0.0), (257, 0.0), (258, 0.0), (259, 0.0), (260, 0.0), (262, 0.0), (263, 0.0), (264, 0.0), (265, 0.0), (266, 0.0), (267, 0.0), (268, 0.0), (269, 0.0), (270, 0.0), (271, 0.0), (272, 0.0), (273, 0.0), (274, 0.0), (275, 0.0), (277, 0.0), (278, 0.0), (279, 0.0), (280, 0.0), (281, 0.0), (282, 0.0), (284, 0.0), (285, 0.0), (286, 0.0), (287, 0.0), (288, 0.0), (290, 0.0), (291, 0.0), (292, 0.0), (293, 0.0), (294, 0.0), (296, 0.0), (298, 0.0), (299, 0.0), (300, 0.0), (303, 0.0), (304, 0.0), (305, 0.0), (306, 0.0), (307, 0.0), (308, 0.0), (309, 0.0), (310, 0.0), (311, 0.0), (312, 0.0), (313, 0.0), (314, 0.0), (316, 0.0), (317, 0.0), (318, 0.0), (319, 0.0), (320, 0.0), (322, 0.0), (323, 0.0), (324, 0.0), (326, 0.0), (327, 0.0), (328, 0.0), (329, 0.0), (330, 0.0), (331, 0.0), (333, 0.0), (334, 0.0), (335, 0.0), (338, 0.0), (339, 0.0), (341, 0.0), (342, 0.0), (343, 0.0), (344, 0.0), (345, 0.0), (346, 0.0), (348, 0.0), (349, 0.0), (350, 0.0), (351, 0.0), (352, 0.0), (353, 0.0), (354, 0.0), (356, 0.0), (357, 0.0), (358, 0.0), (359, 0.0), (360, 0.0), (361, 0.0), (362, 0.0), (363, 0.0), (364, 0.0), (365, 0.0), (366, 0.0), (367, 0.0), (368, 0.0), (370, 0.0), (371, 0.0), (372, 0.0), (375, 0.0), (376, 0.0), (377, 0.0), (378, 0.0), (380, 0.0), (381, 0.0), (382, 0.0), (383, 0.0), (384, 0.0), (385, 0.0), (386, 0.0), (387, 0.0), (388, 0.0), (392, 0.0), (393, 0.0), (394, 0.0), (395, 0.0), (396, 0.0), (397, 0.0), (398, 0.0), (399, 0.0), (401, 0.0), (402, 0.0), (403, 0.0), (404, 0.0), (405, 0.0), (406, 0.0), (407, 0.0), (408, 0.0), (409, 0.0), (411, 0.0), (412, 0.0), (413, 0.0), (415, 0.0), (417, 0.0), (418, 0.0), (420, 0.0), (422, 0.0), (423, 0.0), (424, 0.0), (425, 0.0), (427, 0.0), (428, 0.0), (429, 0.0), (430, 0.0), (432, 0.0), (433, 0.0), (434, 0.0), (436, 0.0), (437, 0.0), (438, 0.0), (439, 0.0), (440, 0.0), (441, 0.0), (442, 0.0), (444, 0.0), (445, 0.0), (446, 0.0), (449, 0.0), (451, 0.0), (452, 0.0), (453, 0.0), (454, 0.0), (455, 0.0), (456, 0.0), (457, 0.0), (460, 0.0), (461, 0.0), (462, 0.0), (464, 0.0), (465, 0.0), (466, 0.0), (467, 0.0), (468, 0.0), (469, 0.0), (470, 0.0), (472, 0.0), (473, 0.0), (475, 0.0), (476, 0.0), (477, 0.0), (478, 0.0), (479, 0.0), (481, 0.0), (483, 0.0), (484, 0.0), (485, 0.0), (487, 0.0), (488, 0.0), (489, 0.0), (490, 0.0), (491, 0.0), (494, 0.0), (495, 0.0), (496, 0.0), (497, 0.0), (498, 0.0), (499, 0.0), (500, 0.0), (501, 0.0), (502, 0.0), (503, 0.0), (505, 0.0), (506, 0.0), (507, 0.0), (509, 0.0), (510, 0.0), (511, 0.0), (512, 0.0), (513, 0.0), (514, 0.0), (515, 0.0), (516, 0.0), (517, 0.0), (519, 0.0), (521, 0.0), (522, 0.0)]\n"
          ]
        }
      ]
    },
    {
      "cell_type": "code",
      "metadata": {
        "colab": {
          "base_uri": "https://localhost:8080/"
        },
        "id": "JseMqew-RW6Q",
        "outputId": "e7a38b26-f2bb-41f5-afa4-bf0bd2418554"
      },
      "source": [
        "# print the name of similar medicines based on the index\n",
        "\n",
        "print('Medicines suggested for you : \\n')\n",
        "\n",
        "i = 1\n",
        "\n",
        "for movie in sorted_similar_movies:\n",
        "  index = movie[0]\n",
        "  title_from_index = medicines_data[medicines_data.index==index]['drugName'].values[0]\n",
        "  if (i<30):\n",
        "    print(i, '.',title_from_index)\n",
        "    i+=1"
      ],
      "execution_count": null,
      "outputs": [
        {
          "output_type": "stream",
          "name": "stdout",
          "text": [
            "Medicines suggested for you : \n",
            "\n",
            "1 . Cyclafem 1 / 35\n",
            "2 . Copper\n",
            "3 . Levora\n",
            "4 . Blisovi Fe 1 / 20\n",
            "5 . NuvaRing\n",
            "6 . Aubra\n",
            "7 . Ethinyl estradiol / etonogestrel\n",
            "8 . Microgestin Fe 1.5 / 30\n",
            "9 . Etonogestrel\n",
            "10 . Etonogestrel\n",
            "11 . Ortho Tri-Cyclen Lo\n",
            "12 . Skyla\n",
            "13 . Ethinyl estradiol / norethindrone\n",
            "14 . ParaGard\n",
            "15 . Ethinyl estradiol / levonorgestrel\n",
            "16 . Aviane\n",
            "17 . Implanon\n",
            "18 . Levonorgestrel\n",
            "19 . Levonorgestrel\n",
            "20 . Ethinyl estradiol / norgestimate\n",
            "21 . Lo Loestrin Fe\n",
            "22 . Copper\n",
            "23 . Yaz\n",
            "24 . Copper\n",
            "25 . Jolessa\n",
            "26 . Nexplanon\n",
            "27 . Lo Loestrin Fe\n",
            "28 . Ethinyl estradiol / norgestimate\n",
            "29 . Kariva\n"
          ]
        }
      ]
    },
    {
      "cell_type": "markdown",
      "metadata": {
        "id": "KmXULXO9TZun"
      },
      "source": [
        "Movie Recommendation Sytem"
      ]
    },
    {
      "cell_type": "code",
      "metadata": {
        "colab": {
          "base_uri": "https://localhost:8080/"
        },
        "id": "QUDZfTSxTHDf",
        "outputId": "9ea0f6b4-7998-400e-b5bc-ec2b9b0f8679"
      },
      "source": [
        "medicine_name = input(' Enter name of a medicine : ')\n",
        "\n",
        "list_of_all_titles = medicines_data['drugName'].tolist()\n",
        "find_close_match = difflib.get_close_matches(medicine_name, list_of_all_titles)\n",
        "close_match = find_close_match[0]\n",
        "index_of_the_movie = medicines_data[medicines_data.drugName == close_match]['index'].values[0]\n",
        "similarity_score = list(enumerate(similarity[index_of_the_movie]))\n",
        "sorted_similar_movies = sorted(similarity_score, key = lambda x:x[1], reverse = True) \n",
        "print('Medicines suggested for you : \\n')\n",
        "i = 1\n",
        "\n",
        "for movie in sorted_similar_movies:\n",
        "  index = movie[0]\n",
        "  title_from_index = medicines_data[medicines_data.index==index]['drugName'].values[0]\n",
        "  if (i<30):\n",
        "    print(i, '.',title_from_index)\n",
        "    i+=1"
      ],
      "execution_count": null,
      "outputs": [
        {
          "output_type": "stream",
          "name": "stdout",
          "text": [
            " Enter name of a medicine : Contrave\n",
            "Medicines suggested for you : \n",
            "\n",
            "1 . Cyclafem 1 / 35\n",
            "2 . Levonorgestrel\n",
            "3 . Levonorgestrel\n",
            "4 . Levonorgestrel\n",
            "5 . Levonorgestrel\n",
            "6 . Levonorgestrel\n",
            "7 . Levonorgestrel\n",
            "8 . Levonorgestrel\n",
            "9 . Levonorgestrel\n",
            "10 . Etonogestrel\n",
            "11 . Etonogestrel\n",
            "12 . Etonogestrel\n",
            "13 . Etonogestrel\n",
            "14 . Etonogestrel\n",
            "15 . Etonogestrel\n",
            "16 . Etonogestrel\n",
            "17 . Etonogestrel\n",
            "18 . Etonogestrel\n",
            "19 . Implanon\n",
            "20 . Nexplanon\n",
            "21 . Nexplanon\n",
            "22 . Implanon\n",
            "23 . Nexplanon\n",
            "24 . Implanon\n",
            "25 . Nexplanon\n",
            "26 . Nexplanon\n",
            "27 . Implanon\n",
            "28 . Nexplanon\n",
            "29 . Implanon\n"
          ]
        }
      ]
    },
    {
      "cell_type": "code",
      "metadata": {
        "id": "dgOXLbsWUAGK"
      },
      "source": [],
      "execution_count": null,
      "outputs": []
    }
  ]
}